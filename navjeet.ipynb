{
  "nbformat": 4,
  "nbformat_minor": 0,
  "metadata": {
    "colab": {
      "provenance": []
    },
    "kernelspec": {
      "name": "python3",
      "display_name": "Python 3"
    },
    "language_info": {
      "name": "python"
    }
  },
  "cells": [
    {
      "cell_type": "code",
      "execution_count": 5,
      "metadata": {
        "colab": {
          "base_uri": "https://localhost:8080/"
        },
        "id": "azTzq584FgUh",
        "outputId": "d1cf6757-12b2-4a82-bf3d-7ed42364622c"
      },
      "outputs": [
        {
          "output_type": "stream",
          "name": "stdout",
          "text": [
            "Requirement already satisfied: gradio==3.44 in /usr/local/lib/python3.12/dist-packages (3.44.0)\n",
            "Requirement already satisfied: googletrans==4.0.0-rc1 in /usr/local/lib/python3.12/dist-packages (4.0.0rc1)\n",
            "Requirement already satisfied: pytesseract in /usr/local/lib/python3.12/dist-packages (0.3.13)\n",
            "Requirement already satisfied: Pillow in /usr/local/lib/python3.12/dist-packages (10.4.0)\n",
            "Requirement already satisfied: PyMuPDF in /usr/local/lib/python3.12/dist-packages (1.26.4)\n",
            "Requirement already satisfied: aiofiles<24.0,>=22.0 in /usr/local/lib/python3.12/dist-packages (from gradio==3.44) (23.2.1)\n",
            "Requirement already satisfied: altair<6.0,>=4.2.0 in /usr/local/lib/python3.12/dist-packages (from gradio==3.44) (5.5.0)\n",
            "Requirement already satisfied: fastapi in /usr/local/lib/python3.12/dist-packages (from gradio==3.44) (0.116.2)\n",
            "Requirement already satisfied: ffmpy in /usr/local/lib/python3.12/dist-packages (from gradio==3.44) (0.6.1)\n",
            "Requirement already satisfied: gradio-client==0.5.0 in /usr/local/lib/python3.12/dist-packages (from gradio==3.44) (0.5.0)\n",
            "Requirement already satisfied: httpx in /usr/local/lib/python3.12/dist-packages (from gradio==3.44) (0.13.3)\n",
            "Requirement already satisfied: huggingface-hub>=0.14.0 in /usr/local/lib/python3.12/dist-packages (from gradio==3.44) (0.35.0)\n",
            "Requirement already satisfied: importlib-resources<7.0,>=1.3 in /usr/local/lib/python3.12/dist-packages (from gradio==3.44) (6.5.2)\n",
            "Requirement already satisfied: jinja2<4.0 in /usr/local/lib/python3.12/dist-packages (from gradio==3.44) (3.1.6)\n",
            "Requirement already satisfied: markupsafe~=2.0 in /usr/local/lib/python3.12/dist-packages (from gradio==3.44) (2.1.5)\n",
            "Requirement already satisfied: matplotlib~=3.0 in /usr/local/lib/python3.12/dist-packages (from gradio==3.44) (3.10.0)\n",
            "Requirement already satisfied: numpy~=1.0 in /usr/local/lib/python3.12/dist-packages (from gradio==3.44) (1.26.4)\n",
            "Requirement already satisfied: orjson~=3.0 in /usr/local/lib/python3.12/dist-packages (from gradio==3.44) (3.11.3)\n",
            "Requirement already satisfied: packaging in /usr/local/lib/python3.12/dist-packages (from gradio==3.44) (25.0)\n",
            "Requirement already satisfied: pandas<3.0,>=1.0 in /usr/local/lib/python3.12/dist-packages (from gradio==3.44) (2.2.2)\n",
            "Requirement already satisfied: pydantic!=1.8,!=1.8.1,!=2.0.0,!=2.0.1,<3.0.0,>=1.7.4 in /usr/local/lib/python3.12/dist-packages (from gradio==3.44) (2.11.9)\n",
            "Requirement already satisfied: pydub in /usr/local/lib/python3.12/dist-packages (from gradio==3.44) (0.25.1)\n",
            "Requirement already satisfied: python-multipart in /usr/local/lib/python3.12/dist-packages (from gradio==3.44) (0.0.20)\n",
            "Requirement already satisfied: pyyaml<7.0,>=5.0 in /usr/local/lib/python3.12/dist-packages (from gradio==3.44) (6.0.2)\n",
            "Requirement already satisfied: requests~=2.0 in /usr/local/lib/python3.12/dist-packages (from gradio==3.44) (2.32.4)\n",
            "Requirement already satisfied: semantic-version~=2.0 in /usr/local/lib/python3.12/dist-packages (from gradio==3.44) (2.10.0)\n",
            "Requirement already satisfied: typing-extensions~=4.0 in /usr/local/lib/python3.12/dist-packages (from gradio==3.44) (4.15.0)\n",
            "Requirement already satisfied: uvicorn>=0.14.0 in /usr/local/lib/python3.12/dist-packages (from gradio==3.44) (0.35.0)\n",
            "Requirement already satisfied: websockets<12.0,>=10.0 in /usr/local/lib/python3.12/dist-packages (from gradio==3.44) (11.0.3)\n",
            "Requirement already satisfied: fsspec in /usr/local/lib/python3.12/dist-packages (from gradio-client==0.5.0->gradio==3.44) (2025.3.0)\n",
            "Requirement already satisfied: certifi in /usr/local/lib/python3.12/dist-packages (from httpx->gradio==3.44) (2025.8.3)\n",
            "Requirement already satisfied: hstspreload in /usr/local/lib/python3.12/dist-packages (from httpx->gradio==3.44) (2025.1.1)\n",
            "Requirement already satisfied: sniffio in /usr/local/lib/python3.12/dist-packages (from httpx->gradio==3.44) (1.3.1)\n",
            "Requirement already satisfied: chardet==3.* in /usr/local/lib/python3.12/dist-packages (from httpx->gradio==3.44) (3.0.4)\n",
            "Requirement already satisfied: idna==2.* in /usr/local/lib/python3.12/dist-packages (from httpx->gradio==3.44) (2.10)\n",
            "Requirement already satisfied: rfc3986<2,>=1.3 in /usr/local/lib/python3.12/dist-packages (from httpx->gradio==3.44) (1.5.0)\n",
            "Requirement already satisfied: httpcore==0.9.* in /usr/local/lib/python3.12/dist-packages (from httpx->gradio==3.44) (0.9.1)\n",
            "Requirement already satisfied: h11<0.10,>=0.8 in /usr/local/lib/python3.12/dist-packages (from httpcore==0.9.*->httpx->gradio==3.44) (0.9.0)\n",
            "Requirement already satisfied: h2==3.* in /usr/local/lib/python3.12/dist-packages (from httpcore==0.9.*->httpx->gradio==3.44) (3.2.0)\n",
            "Requirement already satisfied: hyperframe<6,>=5.2.0 in /usr/local/lib/python3.12/dist-packages (from h2==3.*->httpcore==0.9.*->httpx->gradio==3.44) (5.2.0)\n",
            "Requirement already satisfied: hpack<4,>=3.0 in /usr/local/lib/python3.12/dist-packages (from h2==3.*->httpcore==0.9.*->httpx->gradio==3.44) (3.0.0)\n",
            "Requirement already satisfied: jsonschema>=3.0 in /usr/local/lib/python3.12/dist-packages (from altair<6.0,>=4.2.0->gradio==3.44) (4.25.1)\n",
            "Requirement already satisfied: narwhals>=1.14.2 in /usr/local/lib/python3.12/dist-packages (from altair<6.0,>=4.2.0->gradio==3.44) (2.5.0)\n",
            "Requirement already satisfied: filelock in /usr/local/lib/python3.12/dist-packages (from huggingface-hub>=0.14.0->gradio==3.44) (3.19.1)\n",
            "Requirement already satisfied: tqdm>=4.42.1 in /usr/local/lib/python3.12/dist-packages (from huggingface-hub>=0.14.0->gradio==3.44) (4.67.1)\n",
            "Requirement already satisfied: hf-xet<2.0.0,>=1.1.3 in /usr/local/lib/python3.12/dist-packages (from huggingface-hub>=0.14.0->gradio==3.44) (1.1.10)\n",
            "Requirement already satisfied: contourpy>=1.0.1 in /usr/local/lib/python3.12/dist-packages (from matplotlib~=3.0->gradio==3.44) (1.3.3)\n",
            "Requirement already satisfied: cycler>=0.10 in /usr/local/lib/python3.12/dist-packages (from matplotlib~=3.0->gradio==3.44) (0.12.1)\n",
            "Requirement already satisfied: fonttools>=4.22.0 in /usr/local/lib/python3.12/dist-packages (from matplotlib~=3.0->gradio==3.44) (4.60.0)\n",
            "Requirement already satisfied: kiwisolver>=1.3.1 in /usr/local/lib/python3.12/dist-packages (from matplotlib~=3.0->gradio==3.44) (1.4.9)\n",
            "Requirement already satisfied: pyparsing>=2.3.1 in /usr/local/lib/python3.12/dist-packages (from matplotlib~=3.0->gradio==3.44) (3.2.4)\n",
            "Requirement already satisfied: python-dateutil>=2.7 in /usr/local/lib/python3.12/dist-packages (from matplotlib~=3.0->gradio==3.44) (2.9.0.post0)\n",
            "Requirement already satisfied: pytz>=2020.1 in /usr/local/lib/python3.12/dist-packages (from pandas<3.0,>=1.0->gradio==3.44) (2025.2)\n",
            "Requirement already satisfied: tzdata>=2022.7 in /usr/local/lib/python3.12/dist-packages (from pandas<3.0,>=1.0->gradio==3.44) (2025.2)\n",
            "Requirement already satisfied: annotated-types>=0.6.0 in /usr/local/lib/python3.12/dist-packages (from pydantic!=1.8,!=1.8.1,!=2.0.0,!=2.0.1,<3.0.0,>=1.7.4->gradio==3.44) (0.7.0)\n",
            "Requirement already satisfied: pydantic-core==2.33.2 in /usr/local/lib/python3.12/dist-packages (from pydantic!=1.8,!=1.8.1,!=2.0.0,!=2.0.1,<3.0.0,>=1.7.4->gradio==3.44) (2.33.2)\n",
            "Requirement already satisfied: typing-inspection>=0.4.0 in /usr/local/lib/python3.12/dist-packages (from pydantic!=1.8,!=1.8.1,!=2.0.0,!=2.0.1,<3.0.0,>=1.7.4->gradio==3.44) (0.4.1)\n",
            "Requirement already satisfied: charset_normalizer<4,>=2 in /usr/local/lib/python3.12/dist-packages (from requests~=2.0->gradio==3.44) (3.4.3)\n",
            "Requirement already satisfied: urllib3<3,>=1.21.1 in /usr/local/lib/python3.12/dist-packages (from requests~=2.0->gradio==3.44) (2.5.0)\n",
            "Requirement already satisfied: click>=7.0 in /usr/local/lib/python3.12/dist-packages (from uvicorn>=0.14.0->gradio==3.44) (8.2.1)\n",
            "Requirement already satisfied: starlette<0.49.0,>=0.40.0 in /usr/local/lib/python3.12/dist-packages (from fastapi->gradio==3.44) (0.48.0)\n",
            "Requirement already satisfied: attrs>=22.2.0 in /usr/local/lib/python3.12/dist-packages (from jsonschema>=3.0->altair<6.0,>=4.2.0->gradio==3.44) (25.3.0)\n",
            "Requirement already satisfied: jsonschema-specifications>=2023.03.6 in /usr/local/lib/python3.12/dist-packages (from jsonschema>=3.0->altair<6.0,>=4.2.0->gradio==3.44) (2025.9.1)\n",
            "Requirement already satisfied: referencing>=0.28.4 in /usr/local/lib/python3.12/dist-packages (from jsonschema>=3.0->altair<6.0,>=4.2.0->gradio==3.44) (0.36.2)\n",
            "Requirement already satisfied: rpds-py>=0.7.1 in /usr/local/lib/python3.12/dist-packages (from jsonschema>=3.0->altair<6.0,>=4.2.0->gradio==3.44) (0.27.1)\n",
            "Requirement already satisfied: six>=1.5 in /usr/local/lib/python3.12/dist-packages (from python-dateutil>=2.7->matplotlib~=3.0->gradio==3.44) (1.17.0)\n",
            "Requirement already satisfied: anyio<5,>=3.6.2 in /usr/local/lib/python3.12/dist-packages (from starlette<0.49.0,>=0.40.0->fastapi->gradio==3.44) (4.10.0)\n"
          ]
        }
      ],
      "source": [
        "!pip install gradio==3.44 googletrans==4.0.0-rc1 pytesseract Pillow PyMuPDF"
      ]
    },
    {
      "cell_type": "code",
      "source": [
        "import gradio as gr\n",
        "from googletrans import Translator\n",
        "import pytesseract\n",
        "from PIL import Image\n",
        "import fitz  # PyMuPDF\n",
        "import tempfile"
      ],
      "metadata": {
        "id": "9gY0wBNAFuK4"
      },
      "execution_count": 6,
      "outputs": []
    },
    {
      "cell_type": "code",
      "source": [
        "language_map = {\n",
        "    \"Afrikaans\": \"af\", \"Albanian\": \"sq\", \"Amharic\": \"am\", \"Arabic\": \"ar\", \"Armenian\": \"hy\",\n",
        "    \"Assamese\": \"as\", \"Azerbaijani\": \"az\", \"Basque\": \"eu\", \"Belarusian\": \"be\", \"Bengali\": \"bn\",\n",
        "    \"Bosnian\": \"bs\", \"Bulgarian\": \"bg\", \"Burmese\": \"my\", \"Catalan\": \"ca\", \"Cebuano\": \"ceb\",\n",
        "    \"Chichewa\": \"ny\", \"Chinese (Simplified)\": \"zh-cn\", \"Chinese (Traditional)\": \"zh-tw\", \"Corsican\": \"co\",\n",
        "    \"Croatian\": \"hr\", \"Czech\": \"cs\", \"Danish\": \"da\", \"Dutch\": \"nl\", \"English\": \"en\",\n",
        "    \"Esperanto\": \"eo\", \"Estonian\": \"et\", \"Filipino\": \"tl\", \"Finnish\": \"fi\", \"French\": \"fr\",\n",
        "    \"Galician\": \"gl\", \"Georgian\": \"ka\", \"German\": \"de\", \"Greek\": \"el\", \"Gujarati\": \"gu\",\n",
        "    \"Haitian Creole\": \"ht\", \"Hausa\": \"ha\", \"Hawaiian\": \"haw\", \"Hebrew\": \"he\", \"Hindi\": \"hi\",\n",
        "    \"Hmong\": \"hmn\", \"Hungarian\": \"hu\", \"Icelandic\": \"is\", \"Igbo\": \"ig\", \"Indonesian\": \"id\",\n",
        "    \"Irish\": \"ga\", \"Italian\": \"it\", \"Japanese\": \"ja\", \"Javanese\": \"jv\", \"Kannada\": \"kn\",\n",
        "    \"Kazakh\": \"kk\", \"Khmer\": \"km\", \"Kinyarwanda\": \"rw\", \"Korean\": \"ko\", \"Kurdish (Kurmanji)\": \"ku\",\n",
        "    \"Kyrgyz\": \"ky\", \"Lao\": \"lo\", \"Latin\": \"la\", \"Latvian\": \"lv\", \"Lithuanian\": \"lt\",\n",
        "    \"Luxembourgish\": \"lb\", \"Macedonian\": \"mk\", \"Malagasy\": \"mg\", \"Malay\": \"ms\", \"Malayalam\": \"ml\",\n",
        "    \"Maltese\": \"mt\", \"Maori\": \"mi\", \"Marathi\": \"mr\", \"Mongolian\": \"mn\", \"Nepali\": \"ne\",\n",
        "    \"Norwegian\": \"no\", \"Pashto\": \"ps\", \"Persian\": \"fa\", \"Polish\": \"pl\", \"Portuguese\": \"pt\",\n",
        "    \"Punjabi\": \"pa\", \"Romanian\": \"ro\", \"Russian\": \"ru\", \"Samoan\": \"sm\", \"Scots Gaelic\": \"gd\",\n",
        "    \"Serbian\": \"sr\", \"Sesotho\": \"st\", \"Shona\": \"sn\", \"Sindhi\": \"sd\", \"Sinhala\": \"si\",\n",
        "    \"Slovak\": \"sk\", \"Slovenian\": \"sl\", \"Somali\": \"so\", \"Spanish\": \"es\", \"Sundanese\": \"su\",\n",
        "    \"Swahili\": \"sw\", \"Swedish\": \"sv\", \"Tagalog\": \"tl\", \"Tamil\": \"ta\", \"Telugu\": \"te\",\n",
        "    \"Thai\": \"th\", \"Turkish\": \"tr\", \"Ukrainian\": \"uk\", \"Urdu\": \"ur\", \"Uzbek\": \"uz\",\n",
        "    \"Vietnamese\": \"vi\", \"Welsh\": \"cy\", \"Xhosa\": \"xh\", \"Yiddish\": \"yi\", \"Yoruba\": \"yo\",\n",
        "    \"Zulu\": \"zu\"\n",
        "}\n",
        "\n",
        "# Histories\n",
        "text_history = []\n",
        "doc_history = []\n",
        "image_history = []"
      ],
      "metadata": {
        "id": "7ewjsNydF6Pk"
      },
      "execution_count": 7,
      "outputs": []
    },
    {
      "cell_type": "code",
      "source": [
        "# Text translation\n",
        "def translate_text(text, target_lang):\n",
        "    code = language_map.get(target_lang, \"en\")\n",
        "    translator = Translator()\n",
        "    translated = translator.translate(text, dest=code)\n",
        "    return translated.text\n",
        "\n",
        "# OCR for images\n",
        "def ocr_image(file):\n",
        "    img = Image.open(file)\n",
        "    return pytesseract.image_to_string(img)\n",
        "\n",
        "# Document translation\n",
        "def translate_document(file, target_lang):\n",
        "    text = \"\"\n",
        "    if file.name.endswith(\".pdf\"):\n",
        "        doc = fitz.open(file.name)\n",
        "        for page in doc:\n",
        "            text += page.get_text()\n",
        "    else:\n",
        "        text = file.read().decode(\"utf-8\")\n",
        "    return translate_text(text, target_lang)"
      ],
      "metadata": {
        "id": "8qN6i2hzGAXN"
      },
      "execution_count": 8,
      "outputs": []
    },
    {
      "cell_type": "code",
      "source": [
        "text_history = []\n",
        "doc_history = []\n",
        "image_history = []"
      ],
      "metadata": {
        "id": "OYoOM50YGL6I"
      },
      "execution_count": 9,
      "outputs": []
    },
    {
      "cell_type": "code",
      "source": [
        "with gr.Blocks() as demo:\n",
        "\n",
        "    gr.Markdown(\"<h1 style='text-align:center;color:#4B4BFF;'>AI Multi-Language Translator</h1>\")\n",
        "    gr.Markdown(\"<p style='text-align:center;font-size:16px;'>Translate Text, Documents, and Images instantly with AI.</p>\")\n",
        "\n",
        "    with gr.Tabs():\n",
        "\n",
        "        # Text Tab\n",
        "        with gr.TabItem(\"Text\"):\n",
        "            txt_input = gr.Textbox(label=\"Enter text\")\n",
        "            lang_dropdown = gr.Dropdown(list(language_map.keys()), label=\"Target Language\")\n",
        "            translate_btn = gr.Button(\"Translate\")\n",
        "            txt_output = gr.Textbox(label=\"Translated Text\")\n",
        "            text_hist_box = gr.Textbox(label=\"Translation History\", interactive=False)\n",
        "\n",
        "            def translate_text_tab(text, lang):\n",
        "                if not text.strip(): return \"\", \"\"\n",
        "                translated = translate_text(text, lang)\n",
        "                text_history.insert(0, f\"{text} → {translated} ({lang})\")\n",
        "                if len(text_history) > 10: text_history.pop()\n",
        "                return translated, \"\\n\".join(text_history)\n",
        "\n",
        "            translate_btn.click(translate_text_tab, [txt_input, lang_dropdown], [txt_output, text_hist_box])\n",
        "\n",
        "        # Document Tab\n",
        "        with gr.TabItem(\"Document\"):\n",
        "            doc_input = gr.File(label=\"Upload PDF/TXT\")\n",
        "            doc_lang_dropdown = gr.Dropdown(list(language_map.keys()), label=\"Target Language\")\n",
        "            doc_translate_btn = gr.Button(\"Translate Document\")\n",
        "            doc_output = gr.Textbox(label=\"Translated Text\")\n",
        "            doc_hist_box = gr.Textbox(label=\"Document History\", interactive=False)\n",
        "\n",
        "            def translate_doc_tab(file, lang):\n",
        "                if not file: return \"\", \"\"\n",
        "                translated = translate_document(file, lang)\n",
        "                doc_history.insert(0, f\"{file.name} → {translated[:50]}... ({lang})\")\n",
        "                if len(doc_history) > 10: doc_history.pop()\n",
        "                return translated, \"\\n\".join(doc_history)\n",
        "\n",
        "            doc_translate_btn.click(translate_doc_tab, [doc_input, doc_lang_dropdown], [doc_output, doc_hist_box])\n",
        "\n",
        "        # Image OCR Tab\n",
        "        with gr.TabItem(\"Image OCR\"):\n",
        "            img_input = gr.File(label=\"Upload Image\")\n",
        "            img_lang_dropdown = gr.Dropdown(list(language_map.keys()), label=\"Target Language\")\n",
        "            img_translate_btn = gr.Button(\"Translate Image Text\")\n",
        "            img_output = gr.Textbox(label=\"Translated Text\")\n",
        "            img_hist_box = gr.Textbox(label=\"Image OCR History\", interactive=False)\n",
        "\n",
        "            def translate_img_tab(file, lang):\n",
        "                if not file: return \"\", \"\"\n",
        "                extracted_text = ocr_image(file)\n",
        "                translated = translate_text(extracted_text, lang)\n",
        "                image_history.insert(0, f\"{file.name} → {translated[:50]}... ({lang})\")\n",
        "                if len(image_history) > 10: image_history.pop()\n",
        "                return translated, \"\\n\".join(image_history)\n",
        "\n",
        "            img_translate_btn.click(translate_img_tab, [img_input, img_lang_dropdown], [img_output, img_hist_box])\n",
        "\n",
        "demo.launch(share=True)"
      ],
      "metadata": {
        "colab": {
          "base_uri": "https://localhost:8080/",
          "height": 649
        },
        "id": "AIqTBjNCGP8U",
        "outputId": "40b4f3cd-ff87-4bf3-8b59-163a1a894695"
      },
      "execution_count": 10,
      "outputs": [
        {
          "output_type": "stream",
          "name": "stdout",
          "text": [
            "IMPORTANT: You are using gradio version 3.44.0, however version 4.44.1 is available, please upgrade.\n",
            "--------\n",
            "Colab notebook detected. To show errors in colab notebook, set debug=True in launch()\n",
            "Running on public URL: https://85719f14e38c76edf0.gradio.live\n",
            "\n",
            "This share link expires in 72 hours. For free permanent hosting and GPU upgrades, run `gradio deploy` from Terminal to deploy to Spaces (https://huggingface.co/spaces)\n"
          ]
        },
        {
          "output_type": "display_data",
          "data": {
            "text/plain": [
              "<IPython.core.display.HTML object>"
            ],
            "text/html": [
              "<div><iframe src=\"https://85719f14e38c76edf0.gradio.live\" width=\"100%\" height=\"500\" allow=\"autoplay; camera; microphone; clipboard-read; clipboard-write;\" frameborder=\"0\" allowfullscreen></iframe></div>"
            ]
          },
          "metadata": {}
        },
        {
          "output_type": "execute_result",
          "data": {
            "text/plain": []
          },
          "metadata": {},
          "execution_count": 10
        }
      ]
    }
  ]
}